{
 "cells": [
  {
   "cell_type": "code",
   "execution_count": 4,
   "metadata": {},
   "outputs": [
    {
     "name": "stdout",
     "output_type": "stream",
     "text": [
      "Sayı gir:-3\n",
      "Negatif\n"
     ]
    }
   ],
   "source": [
    "a=int(input('Sayı gir:'))\n",
    "if(a>0):\n",
    "    print(\"Pozitif\")\n",
    "if(a<0):\n",
    "    print(\"Negatif\")\n",
    "if(a==0):\n",
    "    print(\"Sıfır\")\n"
   ]
  },
  {
   "cell_type": "code",
   "execution_count": 6,
   "metadata": {},
   "outputs": [
    {
     "name": "stdout",
     "output_type": "stream",
     "text": [
      "Sınav Notu:85\n",
      "BA\n"
     ]
    }
   ],
   "source": [
    "puan=int(input('Sınav Notu:'))\n",
    "if puan >= 90:\n",
    "    print(\"AA\")\n",
    "elif puan >= 80:\n",
    "    print(\"BA\")\n",
    "elif puan >= 70:\n",
    "    print(\"BB\")\n",
    "elif puan >= 60:\n",
    "    print(\"CB\")\n",
    "elif puan >= 50:\n",
    "    print(\"CC\")\n",
    "else:\n",
    "    print(\"FF\")\n",
    "#Else if -> elif"
   ]
  }
 ],
 "metadata": {
  "kernelspec": {
   "display_name": "Python 3",
   "language": "python",
   "name": "python3"
  },
  "language_info": {
   "codemirror_mode": {
    "name": "ipython",
    "version": 3
   },
   "file_extension": ".py",
   "mimetype": "text/x-python",
   "name": "python",
   "nbconvert_exporter": "python",
   "pygments_lexer": "ipython3",
   "version": "3.7.4"
  }
 },
 "nbformat": 4,
 "nbformat_minor": 2
}
