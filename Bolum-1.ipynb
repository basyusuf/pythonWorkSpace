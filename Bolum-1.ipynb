{
 "cells": [
  {
   "cell_type": "code",
   "execution_count": 6,
   "metadata": {},
   "outputs": [
    {
     "name": "stdout",
     "output_type": "stream",
     "text": [
      "hello world\n"
     ]
    }
   ],
   "source": [
    "print(\"hello world\")"
   ]
  },
  {
   "cell_type": "code",
   "execution_count": 2,
   "metadata": {},
   "outputs": [
    {
     "name": "stdout",
     "output_type": "stream",
     "text": [
      "adınızı girin:Yusuf\n"
     ]
    }
   ],
   "source": [
    "ad = input(\"adınızı girin:\")"
   ]
  },
  {
   "cell_type": "code",
   "execution_count": 5,
   "metadata": {},
   "outputs": [
    {
     "name": "stdout",
     "output_type": "stream",
     "text": [
      "adınızı girin:Yusuf\n",
      "Hoşgeldiniz sayın Yusuf\n"
     ]
    }
   ],
   "source": [
    "ad = input(\"Adınızı girin:\")\n",
    "print(\"Hoşgeldiniz sayın \" +ad)\n"
   ]
  },
  {
   "cell_type": "code",
   "execution_count": 8,
   "metadata": {},
   "outputs": [
    {
     "name": "stdout",
     "output_type": "stream",
     "text": [
      "Ahmet Bey cok zekisiniz\n"
     ]
    }
   ],
   "source": [
    "print('{0} Bey cok zekisiniz'.format('Ahmet'))"
   ]
  },
  {
   "cell_type": "code",
   "execution_count": 9,
   "metadata": {},
   "outputs": [
    {
     "name": "stdout",
     "output_type": "stream",
     "text": [
      "Veli Efendi 3 Defa Geldi\n"
     ]
    }
   ],
   "source": [
    "print(\"Veli\",\"Efendi\",3,\"Defa Geldi\")"
   ]
  },
  {
   "cell_type": "code",
   "execution_count": 11,
   "metadata": {},
   "outputs": [
    {
     "name": "stdout",
     "output_type": "stream",
     "text": [
      "Yusuf Bey 23 Yasindadır\n"
     ]
    }
   ],
   "source": [
    "ad = \"Yusuf\"\n",
    "yas = 23\n",
    "print(\"{0} Bey {1} Yasindadır\".format(ad,yas))\n",
    "#İsim bey yaş yaşındadır çıktısı alınır"
   ]
  },
  {
   "cell_type": "code",
   "execution_count": 13,
   "metadata": {},
   "outputs": [
    {
     "name": "stdout",
     "output_type": "stream",
     "text": [
      "Kenar Uzunluğu3\n",
      "Küpü: 9\n"
     ]
    }
   ],
   "source": [
    "Kenar = int(input(\"Kenar Uzunluğu\"))\n",
    "print(\"Küpü:\",Kenar*3)"
   ]
  },
  {
   "cell_type": "code",
   "execution_count": 18,
   "metadata": {},
   "outputs": [
    {
     "name": "stdout",
     "output_type": "stream",
     "text": [
      "Sayıyı giriniz:3\n",
      "Üssünü gir:2\n",
      "Üssü: 9\n",
      "Ussu bulunacak sayının tipi <class 'int'>\n"
     ]
    }
   ],
   "source": [
    "UssunuBul = int(input(\"Sayıyı giriniz:\"))\n",
    "UstDegeri = int(input(\"Üssünü gir:\"))\n",
    "print(\"Üssü:\",UssunuBul**UstDegeri)\n",
    "print(\"Ussu bulunacak sayının tipi\",type(UssunuBul))"
   ]
  },
  {
   "cell_type": "code",
   "execution_count": 24,
   "metadata": {},
   "outputs": [
    {
     "name": "stdout",
     "output_type": "stream",
     "text": [
      "1\n"
     ]
    }
   ],
   "source": [
    "from enum import Enum #İmport Zorunlu\n",
    "gunler = Enum('Gun',[\"Pazartesi\",\"Salı\"])\n",
    "print(gunler.Pazartesi.value)"
   ]
  },
  {
   "cell_type": "code",
   "execution_count": null,
   "metadata": {},
   "outputs": [],
   "source": []
  }
 ],
 "metadata": {
  "kernelspec": {
   "display_name": "Python 3",
   "language": "python",
   "name": "python3"
  },
  "language_info": {
   "codemirror_mode": {
    "name": "ipython",
    "version": 3
   },
   "file_extension": ".py",
   "mimetype": "text/x-python",
   "name": "python",
   "nbconvert_exporter": "python",
   "pygments_lexer": "ipython3",
   "version": "3.7.4"
  }
 },
 "nbformat": 4,
 "nbformat_minor": 2
}
