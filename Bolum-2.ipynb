{
 "cells": [
  {
   "cell_type": "code",
   "execution_count": 2,
   "metadata": {},
   "outputs": [
    {
     "name": "stdout",
     "output_type": "stream",
     "text": [
      "6 6 0.5\n",
      "5.5 6 2.0\n"
     ]
    }
   ],
   "source": [
    "a=b=6\n",
    "c=3\n",
    "c/=b\n",
    "print(a,b,c);\n",
    "a-=c\n",
    "c*=4\n",
    "print(a,b,c); #Cıktılarını sormuş"
   ]
  },
  {
   "cell_type": "code",
   "execution_count": 3,
   "metadata": {},
   "outputs": [
    {
     "name": "stdout",
     "output_type": "stream",
     "text": [
      "True\n"
     ]
    }
   ],
   "source": [
    "print(3>2 and 5>2)"
   ]
  },
  {
   "cell_type": "code",
   "execution_count": 5,
   "metadata": {},
   "outputs": [
    {
     "name": "stdout",
     "output_type": "stream",
     "text": [
      "True\n"
     ]
    }
   ],
   "source": [
    "print(5>6 or 5>3)"
   ]
  },
  {
   "cell_type": "code",
   "execution_count": 14,
   "metadata": {},
   "outputs": [
    {
     "name": "stdout",
     "output_type": "stream",
     "text": [
      "X:2\n",
      "Cift\n"
     ]
    }
   ],
   "source": [
    "deger = int(input(\"X:\"))\n",
    "modDeger=deger%2\n",
    "if(modDeger==0):\n",
    "    print(\"Cift\")\n",
    "else:\n",
    "    print(\"Tek\")"
   ]
  },
  {
   "cell_type": "code",
   "execution_count": 22,
   "metadata": {},
   "outputs": [
    {
     "name": "stdout",
     "output_type": "stream",
     "text": [
      "129\n"
     ]
    },
    {
     "data": {
      "text/plain": [
       "'\\nSoldan Sağa işlemler oluyor parantez içi kendiliğinden ayrılıyor en düşük öncelik toplama çıkarma işlemlerinde oluyor\\n'"
      ]
     },
     "execution_count": 22,
     "metadata": {},
     "output_type": "execute_result"
    }
   ],
   "source": [
    "A=-2*4%3+2**(3*2+1)\n",
    "print(A)\n",
    "\"\"\"\n",
    "Soldan Sağa işlemler oluyor parantez içi kendiliğinden ayrılıyor en düşük öncelik toplama çıkarma işlemlerinde oluyor\n",
    "\"\"\""
   ]
  },
  {
   "cell_type": "code",
   "execution_count": 27,
   "metadata": {
    "scrolled": true
   },
   "outputs": [
    {
     "name": "stdout",
     "output_type": "stream",
     "text": [
      "2.0\n"
     ]
    }
   ],
   "source": [
    "import math\n",
    "print(math.sqrt(4))"
   ]
  },
  {
   "cell_type": "code",
   "execution_count": 33,
   "metadata": {},
   "outputs": [
    {
     "name": "stdout",
     "output_type": "stream",
     "text": [
      "Maasınız kac para:2000\n",
      "Yeni Maasiniz:{0} TL'dir 2300\n"
     ]
    }
   ],
   "source": [
    "#Zam İsteyen personel için uygulama yaz. Zam Oranı %15\n",
    "maas = int(input(\"Maasınız kac para:\"))\n",
    "zamlanmisHal = maas + int(maas*(0.15))\n",
    "print(\"Yeni Maasiniz:{0} TL'dir\",zamlanmisHal)"
   ]
  }
 ],
 "metadata": {
  "kernelspec": {
   "display_name": "Python 3",
   "language": "python",
   "name": "python3"
  },
  "language_info": {
   "codemirror_mode": {
    "name": "ipython",
    "version": 3
   },
   "file_extension": ".py",
   "mimetype": "text/x-python",
   "name": "python",
   "nbconvert_exporter": "python",
   "pygments_lexer": "ipython3",
   "version": "3.7.4"
  }
 },
 "nbformat": 4,
 "nbformat_minor": 2
}
